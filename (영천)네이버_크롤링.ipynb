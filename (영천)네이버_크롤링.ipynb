{
  "nbformat": 4,
  "nbformat_minor": 0,
  "metadata": {
    "colab": {
      "name": "(영천)네이버 크롤링.ipynb",
      "provenance": [],
      "toc_visible": true,
      "include_colab_link": true
    },
    "kernelspec": {
      "name": "python3",
      "display_name": "Python 3"
    }
  },
  "cells": [
    {
      "cell_type": "markdown",
      "metadata": {
        "id": "view-in-github",
        "colab_type": "text"
      },
      "source": [
        "<a href=\"https://colab.research.google.com/github/kimyw33/crawling/blob/main/(%EC%98%81%EC%B2%9C)%EB%84%A4%EC%9D%B4%EB%B2%84_%ED%81%AC%EB%A1%A4%EB%A7%81.ipynb\" target=\"_parent\"><img src=\"https://colab.research.google.com/assets/colab-badge.svg\" alt=\"Open In Colab\"/></a>"
      ]
    },
    {
      "cell_type": "code",
      "metadata": {
        "id": "zo39vP-zttp9",
        "outputId": "f5609edb-7773-4e73-94ce-ca5b554f4d37",
        "colab": {
          "base_uri": "https://localhost:8080/",
          "height": 53
        }
      },
      "source": [
        "pip install bs4"
      ],
      "execution_count": 1,
      "outputs": [
        {
          "output_type": "stream",
          "text": [
            "Requirement already satisfied: bs4 in /usr/local/lib/python3.6/dist-packages (0.0.1)\n",
            "Requirement already satisfied: beautifulsoup4 in /usr/local/lib/python3.6/dist-packages (from bs4) (4.6.3)\n"
          ],
          "name": "stdout"
        }
      ]
    },
    {
      "cell_type": "code",
      "metadata": {
        "id": "5v_pLyAlozXn",
        "outputId": "0f770949-8733-4abc-da40-ec6a24c4daa5",
        "colab": {
          "base_uri": "https://localhost:8080/",
          "height": 53
        }
      },
      "source": [
        "from urllib.request import urlopen\n",
        "from bs4 import BeautifulSoup as bs\n",
        "from urllib.parse import quote_plus\n",
        "\n",
        "baseUrl = 'https://search.naver.com/search.naver?where=image&sm=tab_jum&query='\n",
        "plusUrl = input('검색어를 입력하세요 : ')\n",
        "# 한글 검색 자동 변환\n",
        "url = baseUrl + quote_plus(plusUrl)\n",
        "html = urlopen(url)\n",
        "soup = bs(html, \"html.parser\")\n",
        "img = soup.find_all(class_='_img', limit = 50) #limit 수를 변경하면 더 많은 사진 다운 가능\n",
        "\n",
        "n = 1\n",
        "for i in img:\n",
        "    imgUrl = i['data-source']\n",
        "    with urlopen(imgUrl) as f:\n",
        "        with open('사진' + plusUrl + str(n)+'.jpg','wb') as h: # w - write b - binary\n",
        "            img = f.read()\n",
        "            h.write(img)\n",
        "    n += 1\n",
        "print('다운로드 완료')"
      ],
      "execution_count": 6,
      "outputs": [
        {
          "output_type": "stream",
          "text": [
            "검색어를 입력하세요 : 바나나\n",
            "다운로드 완료\n"
          ],
          "name": "stdout"
        }
      ]
    },
    {
      "cell_type": "code",
      "metadata": {
        "id": "nkyG1a3mMNVP"
      },
      "source": [
        ""
      ],
      "execution_count": null,
      "outputs": []
    }
  ]
}