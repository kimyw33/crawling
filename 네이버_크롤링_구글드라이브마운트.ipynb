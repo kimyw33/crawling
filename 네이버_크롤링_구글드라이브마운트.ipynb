{
  "nbformat": 4,
  "nbformat_minor": 0,
  "metadata": {
    "colab": {
      "name": "(주현)네이버 크롤링_구글 드라이브.ipynb",
      "provenance": [],
      "include_colab_link": true
    },
    "kernelspec": {
      "name": "python3",
      "display_name": "Python 3"
    }
  },
  "cells": [
    {
      "cell_type": "markdown",
      "metadata": {
        "id": "view-in-github",
        "colab_type": "text"
      },
      "source": [
        "<a href=\"https://colab.research.google.com/github/kimyw33/crawling/blob/main/%EB%84%A4%EC%9D%B4%EB%B2%84_%ED%81%AC%EB%A1%A4%EB%A7%81_%EA%B5%AC%EA%B8%80%EB%93%9C%EB%9D%BC%EC%9D%B4%EB%B8%8C%EB%A7%88%EC%9A%B4%ED%8A%B8.ipynb\" target=\"_parent\"><img src=\"https://colab.research.google.com/assets/colab-badge.svg\" alt=\"Open In Colab\"/></a>"
      ]
    },
    {
      "cell_type": "code",
      "metadata": {
        "id": "LJ02sFfPfFx4",
        "outputId": "a0adb95d-da4b-4bec-8a69-56e980a334b3",
        "colab": {
          "base_uri": "https://localhost:8080/",
          "height": 35
        }
      },
      "source": [
        "from google.colab import drive\n",
        "drive.mount('/content/drive')"
      ],
      "execution_count": null,
      "outputs": [
        {
          "output_type": "stream",
          "text": [
            "Mounted at /content/drive\n"
          ],
          "name": "stdout"
        }
      ]
    },
    {
      "cell_type": "code",
      "metadata": {
        "id": "zo39vP-zttp9",
        "outputId": "e815b884-0451-4e40-b59e-31fa6ba8fd7d",
        "colab": {
          "base_uri": "https://localhost:8080/",
          "height": 53
        }
      },
      "source": [
        "pip install bs4"
      ],
      "execution_count": null,
      "outputs": [
        {
          "output_type": "stream",
          "text": [
            "Requirement already satisfied: bs4 in /usr/local/lib/python3.6/dist-packages (0.0.1)\n",
            "Requirement already satisfied: beautifulsoup4 in /usr/local/lib/python3.6/dist-packages (from bs4) (4.6.3)\n"
          ],
          "name": "stdout"
        }
      ]
    },
    {
      "cell_type": "code",
      "metadata": {
        "id": "5v_pLyAlozXn",
        "outputId": "0151eadb-53ca-4c4c-e7cb-4cfcf52e1cba",
        "colab": {
          "base_uri": "https://localhost:8080/",
          "height": 53
        }
      },
      "source": [
        "from os import path\n",
        "from urllib.request import urlopen\n",
        "from bs4 import BeautifulSoup as bs\n",
        "from urllib.parse import quote_plus\n",
        "\n",
        "baseUrl = 'https://search.naver.com/search.naver?where=image&sm=tab_jum&query='\n",
        "plusUrl = input('검색어를 입력하세요 : ')\n",
        "# 한글 검색 자동 변환\n",
        "url = baseUrl + quote_plus(plusUrl)\n",
        "html = urlopen(url)\n",
        "soup = bs(html, \"html.parser\")\n",
        "img = soup.find_all(class_='_img', limit = 50) #limit 수를 변경하면 더 많은 사진 다운 가능\n",
        "\n",
        "# 오른편의 작은 따옴표 안을 모두 지우고, 카피한 주소를 넣어줍니다. apple 이라는 폴더가 구글 드라이브에 먼저 만들어져 있어야 합니다.\n",
        "notebooks_base_dir = '/content/drive/My Drive/tomato'\n",
        "\n",
        "n = 1\n",
        "for i in img:\n",
        "    imgUrl = i['data-source']\n",
        "    with urlopen(imgUrl) as f:\n",
        "        with open(path.join(notebooks_base_dir, '사진' + plusUrl + str(n)+'.jpg'),'wb') as h: # w - write b - binary\n",
        "            img = f.read()\n",
        "            h.write(img)\n",
        "    n += 1\n",
        "print('다운로드 완료')"
      ],
      "execution_count": null,
      "outputs": [
        {
          "output_type": "stream",
          "text": [
            "검색어를 입력하세요 : tomato\n",
            "다운로드 완료\n"
          ],
          "name": "stdout"
        }
      ]
    },
    {
      "cell_type": "code",
      "metadata": {
        "id": "nkyG1a3mMNVP"
      },
      "source": [
        ""
      ],
      "execution_count": null,
      "outputs": []
    }
  ]
}